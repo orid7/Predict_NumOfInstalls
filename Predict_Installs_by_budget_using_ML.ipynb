{
  "nbformat": 4,
  "nbformat_minor": 0,
  "metadata": {
    "colab": {
      "name": "Predict Installs by budget using ML.ipynb",
      "version": "0.3.2",
      "provenance": [],
      "include_colab_link": true
    },
    "kernelspec": {
      "name": "python3",
      "display_name": "Python 3"
    }
  },
  "cells": [
    {
      "cell_type": "markdown",
      "metadata": {
        "id": "view-in-github",
        "colab_type": "text"
      },
      "source": [
        "[View in Colaboratory](https://colab.research.google.com/github/orid7/Predict_NumOfInstalls/blob/master/Predict_Installs_by_budget_using_ML.ipynb)"
      ]
    },
    {
      "metadata": {
        "id": "021rlC7mWvHC",
        "colab_type": "text"
      },
      "cell_type": "markdown",
      "source": [
        "# **Maximize app installs by budget allocation across different advertising platforms** \n",
        "\n",
        "**Key steps: **\n",
        "\n",
        "1.  Import history data \n",
        "2.  Build Daily data\n",
        "3. Calculate the total amount of installations per day according to budget allocation\n",
        "4. Building a regression model - Given the distribution of a budget,The model **Predict what will be the total amount of installations**.\n",
        "\n",
        "5. Using the Coefficients of the regression model, we have the target function.\n",
        "\n",
        "6. Now, Given a maximum budget, we can **find the best budget allocation to maximize the amount of installs**\n",
        "\n",
        "\n"
      ]
    },
    {
      "metadata": {
        "id": "irny8gDvlwm8",
        "colab_type": "code",
        "colab": {
          "base_uri": "https://localhost:8080/",
          "height": 71
        },
        "outputId": "445d2f8f-4b3c-479f-c96c-d47f56c46ec4"
      },
      "cell_type": "code",
      "source": [
        "import pandas as pd\n",
        "\n",
        "import numpy as np\n",
        "import datetime  \n",
        "import matplotlib.pyplot as plt\n",
        "from sklearn.cross_validation import train_test_split\n",
        "from sklearn import metrics\n",
        "\n"
      ],
      "execution_count": 0,
      "outputs": [
        {
          "output_type": "stream",
          "text": [
            "/usr/local/lib/python3.6/dist-packages/sklearn/cross_validation.py:41: DeprecationWarning: This module was deprecated in version 0.18 in favor of the model_selection module into which all the refactored classes and functions are moved. Also note that the interface of the new CV iterators are different from that of this module. This module will be removed in 0.20.\n",
            "  \"This module will be removed in 0.20.\", DeprecationWarning)\n"
          ],
          "name": "stderr"
        }
      ]
    },
    {
      "metadata": {
        "id": "NZtq0MaTHGZM",
        "colab_type": "code",
        "colab": {}
      },
      "cell_type": "code",
      "source": [
        "%config IPCompleter.greedy=True\n",
        "%matplotlib inline"
      ],
      "execution_count": 0,
      "outputs": []
    },
    {
      "metadata": {
        "id": "XzWDOznw2ANq",
        "colab_type": "code",
        "colab": {}
      },
      "cell_type": "code",
      "source": [
        "\n",
        "url=\"https://raw.githubusercontent.com/orid7/Predict_NumOfInstalls/master/data_installs.csv\"\n",
        "Data=pd.read_csv(url)"
      ],
      "execution_count": 0,
      "outputs": []
    },
    {
      "metadata": {
        "id": "YaJF7v94b73Z",
        "colab_type": "text"
      },
      "cell_type": "markdown",
      "source": [
        "The initial data contains all the historical samples of :\n",
        "\n",
        "1.   Date\n",
        "1.  The amount of budget allocated to a particular platform\n",
        "2.   the amount of installs of the application\n",
        "\n"
      ]
    },
    {
      "metadata": {
        "id": "irNxMfeLGNhk",
        "colab_type": "code",
        "colab": {
          "base_uri": "https://localhost:8080/",
          "height": 202
        },
        "outputId": "ce09a8a3-0817-44a8-934d-fa0a5fe513b3"
      },
      "cell_type": "code",
      "source": [
        " Data = Data.rename(columns={'Country Advertisers Mobile OS': 'Adv',' Installs ':'Installs'})\n",
        "Data.head()"
      ],
      "execution_count": 0,
      "outputs": [
        {
          "output_type": "execute_result",
          "data": {
            "text/html": [
              "<div>\n",
              "<style scoped>\n",
              "    .dataframe tbody tr th:only-of-type {\n",
              "        vertical-align: middle;\n",
              "    }\n",
              "\n",
              "    .dataframe tbody tr th {\n",
              "        vertical-align: top;\n",
              "    }\n",
              "\n",
              "    .dataframe thead th {\n",
              "        text-align: right;\n",
              "    }\n",
              "</style>\n",
              "<table border=\"1\" class=\"dataframe\">\n",
              "  <thead>\n",
              "    <tr style=\"text-align: right;\">\n",
              "      <th></th>\n",
              "      <th>Date</th>\n",
              "      <th>Adv</th>\n",
              "      <th>Budget</th>\n",
              "      <th>Installs</th>\n",
              "    </tr>\n",
              "  </thead>\n",
              "  <tbody>\n",
              "    <tr>\n",
              "      <th>0</th>\n",
              "      <td>01/01/2016</td>\n",
              "      <td>EU Facebook Android</td>\n",
              "      <td>564.21</td>\n",
              "      <td>1,012</td>\n",
              "    </tr>\n",
              "    <tr>\n",
              "      <th>1</th>\n",
              "      <td>01/01/2016</td>\n",
              "      <td>EU Facebook iOS</td>\n",
              "      <td>84.50</td>\n",
              "      <td>102</td>\n",
              "    </tr>\n",
              "    <tr>\n",
              "      <th>2</th>\n",
              "      <td>01/01/2016</td>\n",
              "      <td>EU GoogleSearch Android</td>\n",
              "      <td>605.18</td>\n",
              "      <td>1,721</td>\n",
              "    </tr>\n",
              "    <tr>\n",
              "      <th>3</th>\n",
              "      <td>01/01/2016</td>\n",
              "      <td>EU GoogleSearch iOS</td>\n",
              "      <td>121.78</td>\n",
              "      <td>164</td>\n",
              "    </tr>\n",
              "    <tr>\n",
              "      <th>4</th>\n",
              "      <td>01/01/2016</td>\n",
              "      <td>US Facebook Android</td>\n",
              "      <td>1,666.76</td>\n",
              "      <td>802</td>\n",
              "    </tr>\n",
              "  </tbody>\n",
              "</table>\n",
              "</div>"
            ],
            "text/plain": [
              "         Date                      Adv    Budget Installs\n",
              "0  01/01/2016      EU Facebook Android    564.21   1,012 \n",
              "1  01/01/2016          EU Facebook iOS     84.50     102 \n",
              "2  01/01/2016  EU GoogleSearch Android    605.18   1,721 \n",
              "3  01/01/2016      EU GoogleSearch iOS    121.78     164 \n",
              "4  01/01/2016      US Facebook Android  1,666.76     802 "
            ]
          },
          "metadata": {
            "tags": []
          },
          "execution_count": 150
        }
      ]
    },
    {
      "metadata": {
        "id": "TySTjkXDdIKG",
        "colab_type": "text"
      },
      "cell_type": "markdown",
      "source": [
        "**A reminder of the Target function** - we want to maximize the amount of daily installs by dividing the daily budget.\n",
        "\n",
        "Therefore, we must build a new DataFrame that each row contains the day of the year, the amount of budget allocated to a particular platform on the same day, and the total number of daily installs."
      ]
    },
    {
      "metadata": {
        "id": "R3DX1dutJ-SA",
        "colab_type": "code",
        "colab": {}
      },
      "cell_type": "code",
      "source": [
        "#Build the columns of each platform:\n",
        "Adv_names=Data.Adv.unique()\n",
        "f = lambda t: t.replace(\" \", \"_\")\n",
        "fv=np.vectorize(f)\n",
        "adv_budget=fv(Adv_names)\n",
        "adv_installs=adv_budget\n",
        "f2 = lambda t: t+\"_budget\"\n",
        "fv2=np.vectorize(f2)\n",
        "f3 = lambda t: t+\"_installs\"\n",
        "fv3=np.vectorize(f3)\n",
        "adv_budget=fv2(adv_budget)\n",
        "adv_installs=fv3(adv_installs)\n"
      ],
      "execution_count": 0,
      "outputs": []
    },
    {
      "metadata": {
        "id": "edQH2rc3QHmP",
        "colab_type": "code",
        "colab": {
          "base_uri": "https://localhost:8080/",
          "height": 68
        },
        "outputId": "333d0364-fef9-445e-b639-d512429a22ca"
      },
      "cell_type": "code",
      "source": [
        "\n",
        "# Create new DataFrame\n",
        "columns= ['Date',*adv_budget,*adv_installs,'sum_installs']\n",
        "df=pd.DataFrame(columns=columns)\n",
        "\n",
        "df"
      ],
      "execution_count": 0,
      "outputs": [
        {
          "output_type": "execute_result",
          "data": {
            "text/html": [
              "<div>\n",
              "<style scoped>\n",
              "    .dataframe tbody tr th:only-of-type {\n",
              "        vertical-align: middle;\n",
              "    }\n",
              "\n",
              "    .dataframe tbody tr th {\n",
              "        vertical-align: top;\n",
              "    }\n",
              "\n",
              "    .dataframe thead th {\n",
              "        text-align: right;\n",
              "    }\n",
              "</style>\n",
              "<table border=\"1\" class=\"dataframe\">\n",
              "  <thead>\n",
              "    <tr style=\"text-align: right;\">\n",
              "      <th></th>\n",
              "      <th>Date</th>\n",
              "      <th>EU_Facebook_Android_budget</th>\n",
              "      <th>EU_Facebook_iOS_budget</th>\n",
              "      <th>EU_GoogleSearch_Android_budget</th>\n",
              "      <th>EU_GoogleSearch_iOS_budget</th>\n",
              "      <th>US_Facebook_Android_budget</th>\n",
              "      <th>US_Facebook_iOS_budget</th>\n",
              "      <th>US_GoogleSearch_Android_budget</th>\n",
              "      <th>US_GoogleSearch_iOS_budget</th>\n",
              "      <th>EU_Facebook_Android_installs</th>\n",
              "      <th>EU_Facebook_iOS_installs</th>\n",
              "      <th>EU_GoogleSearch_Android_installs</th>\n",
              "      <th>EU_GoogleSearch_iOS_installs</th>\n",
              "      <th>US_Facebook_Android_installs</th>\n",
              "      <th>US_Facebook_iOS_installs</th>\n",
              "      <th>US_GoogleSearch_Android_installs</th>\n",
              "      <th>US_GoogleSearch_iOS_installs</th>\n",
              "      <th>sum_installs</th>\n",
              "    </tr>\n",
              "  </thead>\n",
              "  <tbody>\n",
              "  </tbody>\n",
              "</table>\n",
              "</div>"
            ],
            "text/plain": [
              "Empty DataFrame\n",
              "Columns: [Date, EU_Facebook_Android_budget, EU_Facebook_iOS_budget, EU_GoogleSearch_Android_budget, EU_GoogleSearch_iOS_budget, US_Facebook_Android_budget, US_Facebook_iOS_budget, US_GoogleSearch_Android_budget, US_GoogleSearch_iOS_budget, EU_Facebook_Android_installs, EU_Facebook_iOS_installs, EU_GoogleSearch_Android_installs, EU_GoogleSearch_iOS_installs, US_Facebook_Android_installs, US_Facebook_iOS_installs, US_GoogleSearch_Android_installs, US_GoogleSearch_iOS_installs, sum_installs]\n",
              "Index: []"
            ]
          },
          "metadata": {
            "tags": []
          },
          "execution_count": 288
        }
      ]
    },
    {
      "metadata": {
        "id": "v9h0TgmOVU-3",
        "colab_type": "code",
        "colab": {}
      },
      "cell_type": "code",
      "source": [
        "# A function that receives a row from the initial data, and feeds the data in the appropriate place in the new DataFrame\n",
        "\n",
        "\n",
        "def build_Dataframe(row):\n",
        "  Adv1=fv(row.Adv)\n",
        "  adv_budget_value=fv2(Adv1)[-1]\n",
        "  adv_installs_value=fv3(Adv1)[-1]\n",
        "  global df\n",
        "      \n",
        "  if(row.Date.values[-1] in df.Date.values):\n",
        "      index=df.index[df['Date'] == row.Date.values[-1]]\n",
        "      df[adv_budget_value][index[-1]]=row.Budget.values[-1]\n",
        "      df[adv_installs_value][index[-1]]=row.Installs.values[-1]\n",
        "  else:\n",
        "      emptyRow=pd.DataFrame([[0,0,0,0,0,0,0,0,0,0,0,0,0,0,0,0,0,0]],columns=columns)\n",
        "      df=df.append(emptyRow,ignore_index=True)\n",
        "      df['Date'][df.index[-1]]=row.Date.values[-1]\n",
        "      df[adv_budget_value][df.index[-1]]=row.Budget.values[-1]\n",
        "      df[adv_installs_value][df.index[-1]]=row.Installs.values[-1]\n",
        "      \n",
        "  return "
      ],
      "execution_count": 0,
      "outputs": []
    },
    {
      "metadata": {
        "id": "NAlEgMmr6xJ1",
        "colab_type": "code",
        "colab": {}
      },
      "cell_type": "code",
      "source": [
        "#for each row in the initial data, Enter the data to the new DataFrame\n",
        "\n",
        "for i in range(0, len(Data)):\n",
        "  build_Dataframe(Data.iloc[[i]])"
      ],
      "execution_count": 0,
      "outputs": []
    },
    {
      "metadata": {
        "id": "SpBdNiWLgYoN",
        "colab_type": "text"
      },
      "cell_type": "markdown",
      "source": [
        "**Print the new DataFrame:**"
      ]
    },
    {
      "metadata": {
        "id": "IsojcPB_Jv1u",
        "colab_type": "code",
        "colab": {
          "base_uri": "https://localhost:8080/",
          "height": 222
        },
        "outputId": "5cfe583b-4b62-4aa1-8ec4-dd9b7ccf738b"
      },
      "cell_type": "code",
      "source": [
        "df.head()\n"
      ],
      "execution_count": 0,
      "outputs": [
        {
          "output_type": "execute_result",
          "data": {
            "text/html": [
              "<div>\n",
              "<style scoped>\n",
              "    .dataframe tbody tr th:only-of-type {\n",
              "        vertical-align: middle;\n",
              "    }\n",
              "\n",
              "    .dataframe tbody tr th {\n",
              "        vertical-align: top;\n",
              "    }\n",
              "\n",
              "    .dataframe thead th {\n",
              "        text-align: right;\n",
              "    }\n",
              "</style>\n",
              "<table border=\"1\" class=\"dataframe\">\n",
              "  <thead>\n",
              "    <tr style=\"text-align: right;\">\n",
              "      <th></th>\n",
              "      <th>Date</th>\n",
              "      <th>EU_Facebook_Android_budget</th>\n",
              "      <th>EU_Facebook_iOS_budget</th>\n",
              "      <th>EU_GoogleSearch_Android_budget</th>\n",
              "      <th>EU_GoogleSearch_iOS_budget</th>\n",
              "      <th>US_Facebook_Android_budget</th>\n",
              "      <th>US_Facebook_iOS_budget</th>\n",
              "      <th>US_GoogleSearch_Android_budget</th>\n",
              "      <th>US_GoogleSearch_iOS_budget</th>\n",
              "      <th>EU_Facebook_Android_installs</th>\n",
              "      <th>EU_Facebook_iOS_installs</th>\n",
              "      <th>EU_GoogleSearch_Android_installs</th>\n",
              "      <th>EU_GoogleSearch_iOS_installs</th>\n",
              "      <th>US_Facebook_Android_installs</th>\n",
              "      <th>US_Facebook_iOS_installs</th>\n",
              "      <th>US_GoogleSearch_Android_installs</th>\n",
              "      <th>US_GoogleSearch_iOS_installs</th>\n",
              "      <th>sum_installs</th>\n",
              "    </tr>\n",
              "  </thead>\n",
              "  <tbody>\n",
              "    <tr>\n",
              "      <th>0</th>\n",
              "      <td>01/01/2016</td>\n",
              "      <td>564.21</td>\n",
              "      <td>84.50</td>\n",
              "      <td>605.18</td>\n",
              "      <td>121.78</td>\n",
              "      <td>1,666.76</td>\n",
              "      <td>1,657.04</td>\n",
              "      <td>3,018.81</td>\n",
              "      <td>585.53</td>\n",
              "      <td>1,012</td>\n",
              "      <td>102</td>\n",
              "      <td>1,721</td>\n",
              "      <td>164</td>\n",
              "      <td>802</td>\n",
              "      <td>529</td>\n",
              "      <td>1,569</td>\n",
              "      <td>194</td>\n",
              "      <td>0</td>\n",
              "    </tr>\n",
              "    <tr>\n",
              "      <th>1</th>\n",
              "      <td>02/01/2016</td>\n",
              "      <td>564.21</td>\n",
              "      <td>83.49</td>\n",
              "      <td>597.26</td>\n",
              "      <td>161.98</td>\n",
              "      <td>1,666.76</td>\n",
              "      <td>1,655.09</td>\n",
              "      <td>3,005.65</td>\n",
              "      <td>660.37</td>\n",
              "      <td>1,756</td>\n",
              "      <td>152</td>\n",
              "      <td>2,046</td>\n",
              "      <td>181</td>\n",
              "      <td>989</td>\n",
              "      <td>715</td>\n",
              "      <td>1,607</td>\n",
              "      <td>247</td>\n",
              "      <td>0</td>\n",
              "    </tr>\n",
              "    <tr>\n",
              "      <th>2</th>\n",
              "      <td>03/01/2016</td>\n",
              "      <td>564.21</td>\n",
              "      <td>83.07</td>\n",
              "      <td>659.30</td>\n",
              "      <td>143.66</td>\n",
              "      <td>1,666.76</td>\n",
              "      <td>1,657.40</td>\n",
              "      <td>3,015.17</td>\n",
              "      <td>562.44</td>\n",
              "      <td>1,863</td>\n",
              "      <td>142</td>\n",
              "      <td>2,319</td>\n",
              "      <td>226</td>\n",
              "      <td>1,070</td>\n",
              "      <td>684</td>\n",
              "      <td>1,679</td>\n",
              "      <td>215</td>\n",
              "      <td>0</td>\n",
              "    </tr>\n",
              "    <tr>\n",
              "      <th>3</th>\n",
              "      <td>04/01/2016</td>\n",
              "      <td>564.21</td>\n",
              "      <td>82.65</td>\n",
              "      <td>703.16</td>\n",
              "      <td>207.73</td>\n",
              "      <td>1,666.76</td>\n",
              "      <td>1,650.04</td>\n",
              "      <td>3,169.92</td>\n",
              "      <td>662.92</td>\n",
              "      <td>1,831</td>\n",
              "      <td>148</td>\n",
              "      <td>2,661</td>\n",
              "      <td>296</td>\n",
              "      <td>1,035</td>\n",
              "      <td>663</td>\n",
              "      <td>1,895</td>\n",
              "      <td>258</td>\n",
              "      <td>0</td>\n",
              "    </tr>\n",
              "    <tr>\n",
              "      <th>4</th>\n",
              "      <td>05/01/2016</td>\n",
              "      <td>564.21</td>\n",
              "      <td>83.60</td>\n",
              "      <td>684.17</td>\n",
              "      <td>217.08</td>\n",
              "      <td>1,666.76</td>\n",
              "      <td>1,782.98</td>\n",
              "      <td>3,173.51</td>\n",
              "      <td>701.79</td>\n",
              "      <td>1,769</td>\n",
              "      <td>160</td>\n",
              "      <td>2,522</td>\n",
              "      <td>306</td>\n",
              "      <td>1,108</td>\n",
              "      <td>800</td>\n",
              "      <td>1,810</td>\n",
              "      <td>303</td>\n",
              "      <td>0</td>\n",
              "    </tr>\n",
              "  </tbody>\n",
              "</table>\n",
              "</div>"
            ],
            "text/plain": [
              "         Date EU_Facebook_Android_budget EU_Facebook_iOS_budget  \\\n",
              "0  01/01/2016                     564.21                  84.50   \n",
              "1  02/01/2016                     564.21                  83.49   \n",
              "2  03/01/2016                     564.21                  83.07   \n",
              "3  04/01/2016                     564.21                  82.65   \n",
              "4  05/01/2016                     564.21                  83.60   \n",
              "\n",
              "  EU_GoogleSearch_Android_budget EU_GoogleSearch_iOS_budget  \\\n",
              "0                         605.18                     121.78   \n",
              "1                         597.26                     161.98   \n",
              "2                         659.30                     143.66   \n",
              "3                         703.16                     207.73   \n",
              "4                         684.17                     217.08   \n",
              "\n",
              "  US_Facebook_Android_budget US_Facebook_iOS_budget  \\\n",
              "0                   1,666.76               1,657.04   \n",
              "1                   1,666.76               1,655.09   \n",
              "2                   1,666.76               1,657.40   \n",
              "3                   1,666.76               1,650.04   \n",
              "4                   1,666.76               1,782.98   \n",
              "\n",
              "  US_GoogleSearch_Android_budget US_GoogleSearch_iOS_budget  \\\n",
              "0                       3,018.81                     585.53   \n",
              "1                       3,005.65                     660.37   \n",
              "2                       3,015.17                     562.44   \n",
              "3                       3,169.92                     662.92   \n",
              "4                       3,173.51                     701.79   \n",
              "\n",
              "  EU_Facebook_Android_installs EU_Facebook_iOS_installs  \\\n",
              "0                       1,012                      102    \n",
              "1                       1,756                      152    \n",
              "2                       1,863                      142    \n",
              "3                       1,831                      148    \n",
              "4                       1,769                      160    \n",
              "\n",
              "  EU_GoogleSearch_Android_installs EU_GoogleSearch_iOS_installs  \\\n",
              "0                           1,721                          164    \n",
              "1                           2,046                          181    \n",
              "2                           2,319                          226    \n",
              "3                           2,661                          296    \n",
              "4                           2,522                          306    \n",
              "\n",
              "  US_Facebook_Android_installs US_Facebook_iOS_installs  \\\n",
              "0                         802                      529    \n",
              "1                         989                      715    \n",
              "2                       1,070                      684    \n",
              "3                       1,035                      663    \n",
              "4                       1,108                      800    \n",
              "\n",
              "  US_GoogleSearch_Android_installs US_GoogleSearch_iOS_installs sum_installs  \n",
              "0                           1,569                          194             0  \n",
              "1                           1,607                          247             0  \n",
              "2                           1,679                          215             0  \n",
              "3                           1,895                          258             0  \n",
              "4                           1,810                          303             0  "
            ]
          },
          "metadata": {
            "tags": []
          },
          "execution_count": 291
        }
      ]
    },
    {
      "metadata": {
        "id": "z7i-Oyh2IA8O",
        "colab_type": "code",
        "colab": {}
      },
      "cell_type": "code",
      "source": [
        "# Replace all the string columns to numeric\n",
        "df[cols] = df[cols].applymap(lambda x:float(str(x).replace(',','')))"
      ],
      "execution_count": 0,
      "outputs": []
    },
    {
      "metadata": {
        "id": "hzhW5M0gFzP4",
        "colab_type": "code",
        "colab": {}
      },
      "cell_type": "code",
      "source": [
        "#Calculates the amount of daily installs by SUM the amount of installations from each platform\n",
        "\n",
        "df.sum_installs= df.apply(lambda row: row['EU_Facebook_Android_installs'] + row['EU_Facebook_iOS_installs']+row['EU_GoogleSearch_Android_installs']+ row['EU_GoogleSearch_iOS_installs']+ row['US_Facebook_Android_installs']+ row['US_Facebook_iOS_installs']+ row['US_GoogleSearch_Android_installs']+ row['US_GoogleSearch_iOS_installs'], axis=1)"
      ],
      "execution_count": 0,
      "outputs": []
    },
    {
      "metadata": {
        "id": "z7O9ZGG7pEiq",
        "colab_type": "code",
        "colab": {
          "base_uri": "https://localhost:8080/",
          "height": 222
        },
        "outputId": "fee85f82-f924-4009-a827-ae8eb0f004ba"
      },
      "cell_type": "code",
      "source": [
        "df.head()"
      ],
      "execution_count": 0,
      "outputs": [
        {
          "output_type": "execute_result",
          "data": {
            "text/html": [
              "<div>\n",
              "<style scoped>\n",
              "    .dataframe tbody tr th:only-of-type {\n",
              "        vertical-align: middle;\n",
              "    }\n",
              "\n",
              "    .dataframe tbody tr th {\n",
              "        vertical-align: top;\n",
              "    }\n",
              "\n",
              "    .dataframe thead th {\n",
              "        text-align: right;\n",
              "    }\n",
              "</style>\n",
              "<table border=\"1\" class=\"dataframe\">\n",
              "  <thead>\n",
              "    <tr style=\"text-align: right;\">\n",
              "      <th></th>\n",
              "      <th>Date</th>\n",
              "      <th>EU_Facebook_Android_budget</th>\n",
              "      <th>EU_Facebook_iOS_budget</th>\n",
              "      <th>EU_GoogleSearch_Android_budget</th>\n",
              "      <th>EU_GoogleSearch_iOS_budget</th>\n",
              "      <th>US_Facebook_Android_budget</th>\n",
              "      <th>US_Facebook_iOS_budget</th>\n",
              "      <th>US_GoogleSearch_Android_budget</th>\n",
              "      <th>US_GoogleSearch_iOS_budget</th>\n",
              "      <th>EU_Facebook_Android_installs</th>\n",
              "      <th>EU_Facebook_iOS_installs</th>\n",
              "      <th>EU_GoogleSearch_Android_installs</th>\n",
              "      <th>EU_GoogleSearch_iOS_installs</th>\n",
              "      <th>US_Facebook_Android_installs</th>\n",
              "      <th>US_Facebook_iOS_installs</th>\n",
              "      <th>US_GoogleSearch_Android_installs</th>\n",
              "      <th>US_GoogleSearch_iOS_installs</th>\n",
              "      <th>sum_installs</th>\n",
              "    </tr>\n",
              "  </thead>\n",
              "  <tbody>\n",
              "    <tr>\n",
              "      <th>0</th>\n",
              "      <td>01/01/2016</td>\n",
              "      <td>564.21</td>\n",
              "      <td>84.50</td>\n",
              "      <td>605.18</td>\n",
              "      <td>121.78</td>\n",
              "      <td>1666.76</td>\n",
              "      <td>1657.04</td>\n",
              "      <td>3018.81</td>\n",
              "      <td>585.53</td>\n",
              "      <td>1012.0</td>\n",
              "      <td>102.0</td>\n",
              "      <td>1721.0</td>\n",
              "      <td>164.0</td>\n",
              "      <td>802.0</td>\n",
              "      <td>529.0</td>\n",
              "      <td>1569.0</td>\n",
              "      <td>194.0</td>\n",
              "      <td>6093.0</td>\n",
              "    </tr>\n",
              "    <tr>\n",
              "      <th>1</th>\n",
              "      <td>02/01/2016</td>\n",
              "      <td>564.21</td>\n",
              "      <td>83.49</td>\n",
              "      <td>597.26</td>\n",
              "      <td>161.98</td>\n",
              "      <td>1666.76</td>\n",
              "      <td>1655.09</td>\n",
              "      <td>3005.65</td>\n",
              "      <td>660.37</td>\n",
              "      <td>1756.0</td>\n",
              "      <td>152.0</td>\n",
              "      <td>2046.0</td>\n",
              "      <td>181.0</td>\n",
              "      <td>989.0</td>\n",
              "      <td>715.0</td>\n",
              "      <td>1607.0</td>\n",
              "      <td>247.0</td>\n",
              "      <td>7693.0</td>\n",
              "    </tr>\n",
              "    <tr>\n",
              "      <th>2</th>\n",
              "      <td>03/01/2016</td>\n",
              "      <td>564.21</td>\n",
              "      <td>83.07</td>\n",
              "      <td>659.30</td>\n",
              "      <td>143.66</td>\n",
              "      <td>1666.76</td>\n",
              "      <td>1657.40</td>\n",
              "      <td>3015.17</td>\n",
              "      <td>562.44</td>\n",
              "      <td>1863.0</td>\n",
              "      <td>142.0</td>\n",
              "      <td>2319.0</td>\n",
              "      <td>226.0</td>\n",
              "      <td>1070.0</td>\n",
              "      <td>684.0</td>\n",
              "      <td>1679.0</td>\n",
              "      <td>215.0</td>\n",
              "      <td>8198.0</td>\n",
              "    </tr>\n",
              "    <tr>\n",
              "      <th>3</th>\n",
              "      <td>04/01/2016</td>\n",
              "      <td>564.21</td>\n",
              "      <td>82.65</td>\n",
              "      <td>703.16</td>\n",
              "      <td>207.73</td>\n",
              "      <td>1666.76</td>\n",
              "      <td>1650.04</td>\n",
              "      <td>3169.92</td>\n",
              "      <td>662.92</td>\n",
              "      <td>1831.0</td>\n",
              "      <td>148.0</td>\n",
              "      <td>2661.0</td>\n",
              "      <td>296.0</td>\n",
              "      <td>1035.0</td>\n",
              "      <td>663.0</td>\n",
              "      <td>1895.0</td>\n",
              "      <td>258.0</td>\n",
              "      <td>8787.0</td>\n",
              "    </tr>\n",
              "    <tr>\n",
              "      <th>4</th>\n",
              "      <td>05/01/2016</td>\n",
              "      <td>564.21</td>\n",
              "      <td>83.60</td>\n",
              "      <td>684.17</td>\n",
              "      <td>217.08</td>\n",
              "      <td>1666.76</td>\n",
              "      <td>1782.98</td>\n",
              "      <td>3173.51</td>\n",
              "      <td>701.79</td>\n",
              "      <td>1769.0</td>\n",
              "      <td>160.0</td>\n",
              "      <td>2522.0</td>\n",
              "      <td>306.0</td>\n",
              "      <td>1108.0</td>\n",
              "      <td>800.0</td>\n",
              "      <td>1810.0</td>\n",
              "      <td>303.0</td>\n",
              "      <td>8778.0</td>\n",
              "    </tr>\n",
              "  </tbody>\n",
              "</table>\n",
              "</div>"
            ],
            "text/plain": [
              "         Date  EU_Facebook_Android_budget  EU_Facebook_iOS_budget  \\\n",
              "0  01/01/2016                      564.21                   84.50   \n",
              "1  02/01/2016                      564.21                   83.49   \n",
              "2  03/01/2016                      564.21                   83.07   \n",
              "3  04/01/2016                      564.21                   82.65   \n",
              "4  05/01/2016                      564.21                   83.60   \n",
              "\n",
              "   EU_GoogleSearch_Android_budget  EU_GoogleSearch_iOS_budget  \\\n",
              "0                          605.18                      121.78   \n",
              "1                          597.26                      161.98   \n",
              "2                          659.30                      143.66   \n",
              "3                          703.16                      207.73   \n",
              "4                          684.17                      217.08   \n",
              "\n",
              "   US_Facebook_Android_budget  US_Facebook_iOS_budget  \\\n",
              "0                     1666.76                 1657.04   \n",
              "1                     1666.76                 1655.09   \n",
              "2                     1666.76                 1657.40   \n",
              "3                     1666.76                 1650.04   \n",
              "4                     1666.76                 1782.98   \n",
              "\n",
              "   US_GoogleSearch_Android_budget  US_GoogleSearch_iOS_budget  \\\n",
              "0                         3018.81                      585.53   \n",
              "1                         3005.65                      660.37   \n",
              "2                         3015.17                      562.44   \n",
              "3                         3169.92                      662.92   \n",
              "4                         3173.51                      701.79   \n",
              "\n",
              "   EU_Facebook_Android_installs  EU_Facebook_iOS_installs  \\\n",
              "0                        1012.0                     102.0   \n",
              "1                        1756.0                     152.0   \n",
              "2                        1863.0                     142.0   \n",
              "3                        1831.0                     148.0   \n",
              "4                        1769.0                     160.0   \n",
              "\n",
              "   EU_GoogleSearch_Android_installs  EU_GoogleSearch_iOS_installs  \\\n",
              "0                            1721.0                         164.0   \n",
              "1                            2046.0                         181.0   \n",
              "2                            2319.0                         226.0   \n",
              "3                            2661.0                         296.0   \n",
              "4                            2522.0                         306.0   \n",
              "\n",
              "   US_Facebook_Android_installs  US_Facebook_iOS_installs  \\\n",
              "0                         802.0                     529.0   \n",
              "1                         989.0                     715.0   \n",
              "2                        1070.0                     684.0   \n",
              "3                        1035.0                     663.0   \n",
              "4                        1108.0                     800.0   \n",
              "\n",
              "   US_GoogleSearch_Android_installs  US_GoogleSearch_iOS_installs  \\\n",
              "0                            1569.0                         194.0   \n",
              "1                            1607.0                         247.0   \n",
              "2                            1679.0                         215.0   \n",
              "3                            1895.0                         258.0   \n",
              "4                            1810.0                         303.0   \n",
              "\n",
              "   sum_installs  \n",
              "0        6093.0  \n",
              "1        7693.0  \n",
              "2        8198.0  \n",
              "3        8787.0  \n",
              "4        8778.0  "
            ]
          },
          "metadata": {
            "tags": []
          },
          "execution_count": 295
        }
      ]
    },
    {
      "metadata": {
        "id": "msA0bmWrPrMY",
        "colab_type": "code",
        "colab": {
          "base_uri": "https://localhost:8080/",
          "height": 222
        },
        "outputId": "9538b9e0-331f-4faf-8efe-114e9462ed00"
      },
      "cell_type": "code",
      "source": [
        "#Deletes the amount of installs columns from each platform,\n",
        "#Because we want to predict the total amount of installations we do not want to put those columns in the regression.\n",
        "\n",
        "cols_of_interest=['Date',*adv_budget,'sum_installs']\n",
        "df = df[cols_of_interest]\n",
        "df.head()"
      ],
      "execution_count": 0,
      "outputs": [
        {
          "output_type": "execute_result",
          "data": {
            "text/html": [
              "<div>\n",
              "<style scoped>\n",
              "    .dataframe tbody tr th:only-of-type {\n",
              "        vertical-align: middle;\n",
              "    }\n",
              "\n",
              "    .dataframe tbody tr th {\n",
              "        vertical-align: top;\n",
              "    }\n",
              "\n",
              "    .dataframe thead th {\n",
              "        text-align: right;\n",
              "    }\n",
              "</style>\n",
              "<table border=\"1\" class=\"dataframe\">\n",
              "  <thead>\n",
              "    <tr style=\"text-align: right;\">\n",
              "      <th></th>\n",
              "      <th>Date</th>\n",
              "      <th>EU_Facebook_Android_budget</th>\n",
              "      <th>EU_Facebook_iOS_budget</th>\n",
              "      <th>EU_GoogleSearch_Android_budget</th>\n",
              "      <th>EU_GoogleSearch_iOS_budget</th>\n",
              "      <th>US_Facebook_Android_budget</th>\n",
              "      <th>US_Facebook_iOS_budget</th>\n",
              "      <th>US_GoogleSearch_Android_budget</th>\n",
              "      <th>US_GoogleSearch_iOS_budget</th>\n",
              "      <th>sum_installs</th>\n",
              "    </tr>\n",
              "  </thead>\n",
              "  <tbody>\n",
              "    <tr>\n",
              "      <th>0</th>\n",
              "      <td>01/01/2016</td>\n",
              "      <td>564.21</td>\n",
              "      <td>84.50</td>\n",
              "      <td>605.18</td>\n",
              "      <td>121.78</td>\n",
              "      <td>1666.76</td>\n",
              "      <td>1657.04</td>\n",
              "      <td>3018.81</td>\n",
              "      <td>585.53</td>\n",
              "      <td>6093.0</td>\n",
              "    </tr>\n",
              "    <tr>\n",
              "      <th>1</th>\n",
              "      <td>02/01/2016</td>\n",
              "      <td>564.21</td>\n",
              "      <td>83.49</td>\n",
              "      <td>597.26</td>\n",
              "      <td>161.98</td>\n",
              "      <td>1666.76</td>\n",
              "      <td>1655.09</td>\n",
              "      <td>3005.65</td>\n",
              "      <td>660.37</td>\n",
              "      <td>7693.0</td>\n",
              "    </tr>\n",
              "    <tr>\n",
              "      <th>2</th>\n",
              "      <td>03/01/2016</td>\n",
              "      <td>564.21</td>\n",
              "      <td>83.07</td>\n",
              "      <td>659.30</td>\n",
              "      <td>143.66</td>\n",
              "      <td>1666.76</td>\n",
              "      <td>1657.40</td>\n",
              "      <td>3015.17</td>\n",
              "      <td>562.44</td>\n",
              "      <td>8198.0</td>\n",
              "    </tr>\n",
              "    <tr>\n",
              "      <th>3</th>\n",
              "      <td>04/01/2016</td>\n",
              "      <td>564.21</td>\n",
              "      <td>82.65</td>\n",
              "      <td>703.16</td>\n",
              "      <td>207.73</td>\n",
              "      <td>1666.76</td>\n",
              "      <td>1650.04</td>\n",
              "      <td>3169.92</td>\n",
              "      <td>662.92</td>\n",
              "      <td>8787.0</td>\n",
              "    </tr>\n",
              "    <tr>\n",
              "      <th>4</th>\n",
              "      <td>05/01/2016</td>\n",
              "      <td>564.21</td>\n",
              "      <td>83.60</td>\n",
              "      <td>684.17</td>\n",
              "      <td>217.08</td>\n",
              "      <td>1666.76</td>\n",
              "      <td>1782.98</td>\n",
              "      <td>3173.51</td>\n",
              "      <td>701.79</td>\n",
              "      <td>8778.0</td>\n",
              "    </tr>\n",
              "  </tbody>\n",
              "</table>\n",
              "</div>"
            ],
            "text/plain": [
              "         Date  EU_Facebook_Android_budget  EU_Facebook_iOS_budget  \\\n",
              "0  01/01/2016                      564.21                   84.50   \n",
              "1  02/01/2016                      564.21                   83.49   \n",
              "2  03/01/2016                      564.21                   83.07   \n",
              "3  04/01/2016                      564.21                   82.65   \n",
              "4  05/01/2016                      564.21                   83.60   \n",
              "\n",
              "   EU_GoogleSearch_Android_budget  EU_GoogleSearch_iOS_budget  \\\n",
              "0                          605.18                      121.78   \n",
              "1                          597.26                      161.98   \n",
              "2                          659.30                      143.66   \n",
              "3                          703.16                      207.73   \n",
              "4                          684.17                      217.08   \n",
              "\n",
              "   US_Facebook_Android_budget  US_Facebook_iOS_budget  \\\n",
              "0                     1666.76                 1657.04   \n",
              "1                     1666.76                 1655.09   \n",
              "2                     1666.76                 1657.40   \n",
              "3                     1666.76                 1650.04   \n",
              "4                     1666.76                 1782.98   \n",
              "\n",
              "   US_GoogleSearch_Android_budget  US_GoogleSearch_iOS_budget  sum_installs  \n",
              "0                         3018.81                      585.53        6093.0  \n",
              "1                         3005.65                      660.37        7693.0  \n",
              "2                         3015.17                      562.44        8198.0  \n",
              "3                         3169.92                      662.92        8787.0  \n",
              "4                         3173.51                      701.79        8778.0  "
            ]
          },
          "metadata": {
            "tags": []
          },
          "execution_count": 299
        }
      ]
    },
    {
      "metadata": {
        "id": "b9HN66tmQQ8p",
        "colab_type": "code",
        "colab": {}
      },
      "cell_type": "code",
      "source": [
        "#Split the data to train column X and the sum of installs - The number that we want to predict as Y\n",
        "\n",
        "y = np.ravel(df.sum_installs)\n",
        "cols_of_train=[*adv_budget]\n",
        "X=df[cols_of_train]\n"
      ],
      "execution_count": 0,
      "outputs": []
    },
    {
      "metadata": {
        "id": "-ntv1k9qRbAL",
        "colab_type": "code",
        "colab": {
          "base_uri": "https://localhost:8080/",
          "height": 103
        },
        "outputId": "8f6d7618-1728-4ba6-c2b4-40988c9a5633"
      },
      "cell_type": "code",
      "source": [
        "from sklearn import datasets, linear_model\n",
        "from sklearn.metrics import mean_squared_error, r2_score\n",
        "\n",
        "# evaluate the model by splitting into train and test sets\n",
        "X_train, X_test, y_train, y_test = train_test_split(X, y, test_size=0.2, random_state=0)\n",
        "regr = linear_model.LinearRegression()\n",
        "\n",
        "regr.fit(X_train, y_train)\n",
        "\n",
        "# Make predictions using the testing set\n",
        "y_pred = regr.predict(X_test)\n",
        "\n",
        "# The coefficients\n",
        "print('Coefficients: \\n', regr.coef_)\n",
        "# The mean squared error\n",
        "print(\"Mean squared error: %.2f\"\n",
        "      % mean_squared_error(y_test, y_pred))\n",
        "# Explained variance score: 1 is perfect prediction\n",
        "print('Variance score: %.2f' % r2_score(y_test, y_pred))\n",
        "\n",
        "\n",
        "\n"
      ],
      "execution_count": 0,
      "outputs": [
        {
          "output_type": "stream",
          "text": [
            "Coefficients: \n",
            " [1.36879584 0.69543647 1.75064041 2.72632398 0.77059904 0.51025889\n",
            " 0.58922936 0.05530073]\n",
            "Mean squared error: 835219.87\n",
            "Variance score: 0.56\n"
          ],
          "name": "stdout"
        }
      ]
    },
    {
      "metadata": {
        "id": "-ybgfDQZVryW",
        "colab_type": "code",
        "colab": {
          "base_uri": "https://localhost:8080/",
          "height": 202
        },
        "outputId": "9f85c186-9794-45c6-b273-62e4b9d99110"
      },
      "cell_type": "code",
      "source": [
        "pd.DataFrame({'prediction':y_pred ,'Test Values':y_test}).head()"
      ],
      "execution_count": 0,
      "outputs": [
        {
          "output_type": "execute_result",
          "data": {
            "text/html": [
              "<div>\n",
              "<style scoped>\n",
              "    .dataframe tbody tr th:only-of-type {\n",
              "        vertical-align: middle;\n",
              "    }\n",
              "\n",
              "    .dataframe tbody tr th {\n",
              "        vertical-align: top;\n",
              "    }\n",
              "\n",
              "    .dataframe thead th {\n",
              "        text-align: right;\n",
              "    }\n",
              "</style>\n",
              "<table border=\"1\" class=\"dataframe\">\n",
              "  <thead>\n",
              "    <tr style=\"text-align: right;\">\n",
              "      <th></th>\n",
              "      <th>Test Values</th>\n",
              "      <th>prediction</th>\n",
              "    </tr>\n",
              "  </thead>\n",
              "  <tbody>\n",
              "    <tr>\n",
              "      <th>0</th>\n",
              "      <td>5399.0</td>\n",
              "      <td>6363.400867</td>\n",
              "    </tr>\n",
              "    <tr>\n",
              "      <th>1</th>\n",
              "      <td>7723.0</td>\n",
              "      <td>6052.073922</td>\n",
              "    </tr>\n",
              "    <tr>\n",
              "      <th>2</th>\n",
              "      <td>4812.0</td>\n",
              "      <td>3524.510558</td>\n",
              "    </tr>\n",
              "    <tr>\n",
              "      <th>3</th>\n",
              "      <td>6650.0</td>\n",
              "      <td>6694.863835</td>\n",
              "    </tr>\n",
              "    <tr>\n",
              "      <th>4</th>\n",
              "      <td>4819.0</td>\n",
              "      <td>3829.165570</td>\n",
              "    </tr>\n",
              "  </tbody>\n",
              "</table>\n",
              "</div>"
            ],
            "text/plain": [
              "   Test Values   prediction\n",
              "0       5399.0  6363.400867\n",
              "1       7723.0  6052.073922\n",
              "2       4812.0  3524.510558\n",
              "3       6650.0  6694.863835\n",
              "4       4819.0  3829.165570"
            ]
          },
          "metadata": {
            "tags": []
          },
          "execution_count": 313
        }
      ]
    },
    {
      "metadata": {
        "id": "sdXpE5-VSGQu",
        "colab_type": "code",
        "colab": {
          "base_uri": "https://localhost:8080/",
          "height": 248
        },
        "outputId": "c5e032e4-ec9b-4cf5-efe3-f8101bd7a641"
      },
      "cell_type": "code",
      "source": [
        "# Plot outputs\n",
        "plt.scatter(y_pred , y_test,  color='black')\n",
        "#plt.plot(y_test, y_pred, color='blue', linewidth=3)\n",
        "\n",
        "plt.xticks(())\n",
        "plt.yticks(())\n",
        "\n",
        "plt.show()"
      ],
      "execution_count": 0,
      "outputs": [
        {
          "output_type": "display_data",
          "data": {
            "image/png": "[encoded data removed]",
            "text/plain": [
              "<matplotlib.figure.Figure at 0x7f5dee42bda0>"
            ]
          },
          "metadata": {
            "tags": []
          }
        }
      ]
    },
    {
      "metadata": {
        "id": "So6TeXOaWchm",
        "colab_type": "code",
        "colab": {}
      },
      "cell_type": "code",
      "source": [
        "### Example of how to find max of function:\n",
        "\n",
        "import numpy as np\n",
        "from scipy.optimize import fmin\n",
        "import math\n"
      ],
      "execution_count": 0,
      "outputs": []
    },
    {
      "metadata": {
        "id": "5D6-1T7blmMr",
        "colab_type": "code",
        "colab": {
          "base_uri": "https://localhost:8080/",
          "height": 34
        },
        "outputId": "8c8b6123-aa17-4873-a344-8f1bb0bcbe23"
      },
      "cell_type": "code",
      "source": [
        "def f1(x):\n",
        "   \n",
        "    return -1*math.pow(x,2)+30*x-8\n",
        "\n",
        "print(f1(2))\n",
        "  \n"
      ],
      "execution_count": 0,
      "outputs": [
        {
          "output_type": "stream",
          "text": [
            "48.0\n"
          ],
          "name": "stdout"
        }
      ]
    },
    {
      "metadata": {
        "id": "lRh370uOmffJ",
        "colab_type": "code",
        "colab": {
          "base_uri": "https://localhost:8080/",
          "height": 121
        },
        "outputId": "1fd84ea2-26ef-47a1-b838-db4eb3903618"
      },
      "cell_type": "code",
      "source": [
        "max_x = fmin(lambda x: -f1(x), 0)\n",
        "max_x[0]\n",
        "print(\"The budget for x (USA Facebook android) - \", max_x[0])\n",
        "numInstalls=f1(max_x[0])\n",
        "print(\"The number of installs - \", numInstalls)"
      ],
      "execution_count": 0,
      "outputs": [
        {
          "output_type": "stream",
          "text": [
            "Optimization terminated successfully.\n",
            "         Current function value: -217.000000\n",
            "         Iterations: 33\n",
            "         Function evaluations: 66\n",
            "The budget for x (USA Facebook android) -  15.00000000000002\n",
            "The number of installs -  216.99999999999997\n"
          ],
          "name": "stdout"
        }
      ]
    }
  ]
}